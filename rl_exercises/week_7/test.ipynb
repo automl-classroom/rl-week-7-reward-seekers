{
 "cells": [
  {
   "cell_type": "code",
   "execution_count": null,
   "id": "d5768f16",
   "metadata": {},
   "outputs": [
    {
     "ename": "ModuleNotFoundError",
     "evalue": "No module named 'rliable'",
     "output_type": "error",
     "traceback": [
      "\u001b[1;31m---------------------------------------------------------------------------\u001b[0m",
      "\u001b[1;31mModuleNotFoundError\u001b[0m                       Traceback (most recent call last)",
      "Cell \u001b[1;32mIn[1], line 4\u001b[0m\n\u001b[0;32m      2\u001b[0m \u001b[38;5;28;01mimport\u001b[39;00m \u001b[38;5;21;01mpandas\u001b[39;00m \u001b[38;5;28;01mas\u001b[39;00m \u001b[38;5;21;01mpd\u001b[39;00m\n\u001b[0;32m      3\u001b[0m \u001b[38;5;28;01mfrom\u001b[39;00m \u001b[38;5;21;01mmatplotlib\u001b[39;00m \u001b[38;5;28;01mimport\u001b[39;00m pyplot \u001b[38;5;28;01mas\u001b[39;00m plt\n\u001b[1;32m----> 4\u001b[0m \u001b[38;5;28;01mfrom\u001b[39;00m \u001b[38;5;21;01mrliable\u001b[39;00m \u001b[38;5;28;01mimport\u001b[39;00m metrics\n\u001b[0;32m      5\u001b[0m \u001b[38;5;28;01mfrom\u001b[39;00m \u001b[38;5;21;01mrliable\u001b[39;00m\u001b[38;5;21;01m.\u001b[39;00m\u001b[38;5;21;01mlibrary\u001b[39;00m \u001b[38;5;28;01mimport\u001b[39;00m get_interval_estimates\n\u001b[0;32m      6\u001b[0m \u001b[38;5;28;01mfrom\u001b[39;00m \u001b[38;5;21;01mrliable\u001b[39;00m\u001b[38;5;21;01m.\u001b[39;00m\u001b[38;5;21;01mplot_utils\u001b[39;00m \u001b[38;5;28;01mimport\u001b[39;00m plot_sample_efficiency_curve\n",
      "\u001b[1;31mModuleNotFoundError\u001b[0m: No module named 'rliable'"
     ]
    }
   ],
   "source": [
    "import numpy as np\n",
    "import pandas as pd\n",
    "from matplotlib import pyplot as plt\n",
    "from rliable import metrics\n",
    "from rliable.library import get_interval_estimates\n",
    "from rliable.plot_utils import plot_sample_efficiency_curve\n",
    "\n",
    "n_seeds = 2\n",
    "# Read data from different runs\n",
    "# This is the toy data, you can also build a proper loop over your own runs.\n",
    "df_s0 = pd.read_csv(\"demo_data_seed_0.csv\")\n",
    "df_s1 = pd.read_csv(\"demo_data_seed_1.csv\")\n",
    "# Add a column to distinguish between seeds\n",
    "# You would do something similar for different algorithms\n",
    "df_s0[\"seed\"] = 0\n",
    "df_s1[\"seed\"] = 1\n",
    "# Combine the dataframes and convert to numpy array\n",
    "\n",
    "df = pd.concat([df_s0, df_s1], ignore_index=True)\n",
    "# Make sure only one set of steps is attempted to be plotted\n",
    "# Obviously the steps should match in such cases!\n",
    "steps = df[\"steps\"].to_numpy().reshape((n_seeds, -1))[0]\n",
    "# You can add other algorithms here\n",
    "train_scores = {\"dqn\": df[\"rewards\"].to_numpy().reshape((n_seeds, -1))}\n",
    "\n",
    "# This aggregates only IQM, but other options include mean and median\n",
    "# Optimality gap exists, but you obviously need optimal scores for that\n",
    "# If you want to use it, check their code\n",
    "iqm = lambda scores: np.array(  # noqa: E731\n",
    "    [metrics.aggregate_iqm(scores[:, eval_idx]) for eval_idx in range(scores.shape[-1])]\n",
    ")\n",
    "iqm_scores, iqm_cis = get_interval_estimates(\n",
    "    train_scores,\n",
    "    iqm,\n",
    "    reps=2000,\n",
    ")\n",
    "\n",
    "# This is a utility function, but you can also just use a normal line plot with the IQM and CI scores\n",
    "plot_sample_efficiency_curve(\n",
    "    steps + 1,\n",
    "    iqm_scores,\n",
    "    iqm_cis,\n",
    "    algorithms=[\"dqn\"],\n",
    "    xlabel=r\"Number of Evaluations\",\n",
    "    ylabel=\"IQM Normalized Score\",\n",
    ")\n",
    "plt.gcf().canvas.manager.set_window_title(\n",
    "    \"IQM Normalized Score - Sample Efficiency Curve\"\n",
    ")\n",
    "plt.legend()\n",
    "plt.tight_layout()\n",
    "plt.show()"
   ]
  },
  {
   "cell_type": "code",
   "execution_count": null,
   "id": "1f20dec1",
   "metadata": {},
   "outputs": [],
   "source": []
  }
 ],
 "metadata": {
  "kernelspec": {
   "display_name": ".venv",
   "language": "python",
   "name": "python3"
  },
  "language_info": {
   "codemirror_mode": {
    "name": "ipython",
    "version": 3
   },
   "file_extension": ".py",
   "mimetype": "text/x-python",
   "name": "python",
   "nbconvert_exporter": "python",
   "pygments_lexer": "ipython3",
   "version": "3.11.12"
  }
 },
 "nbformat": 4,
 "nbformat_minor": 5
}
